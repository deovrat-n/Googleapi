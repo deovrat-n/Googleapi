{
 "cells": [
  {
   "cell_type": "code",
   "execution_count": 1,
   "metadata": {},
   "outputs": [
    {
     "data": {
      "text/plain": [
       "True"
      ]
     },
     "execution_count": 1,
     "metadata": {},
     "output_type": "execute_result"
    }
   ],
   "source": [
    "from dotenv import load_dotenv, find_dotenv\n",
    "\n",
    "load_dotenv(find_dotenv(),override=True)"
   ]
  },
  {
   "cell_type": "code",
   "execution_count": 2,
   "metadata": {},
   "outputs": [],
   "source": [
    "import getpass\n",
    "import os\n",
    "if 'GOOGLE_API_KEY' not in os.environ:\n",
    "    os.environ['GOOGLE_API_KEY']=getpass.getpass('Provide your Api Key: ')"
   ]
  },
  {
   "cell_type": "code",
   "execution_count": 3,
   "metadata": {},
   "outputs": [
    {
     "name": "stderr",
     "output_type": "stream",
     "text": [
      "c:\\Users\\ashok\\OneDrive\\Desktop\\Googleapi\\langchain\\Lib\\site-packages\\tqdm\\auto.py:21: TqdmWarning: IProgress not found. Please update jupyter and ipywidgets. See https://ipywidgets.readthedocs.io/en/stable/user_install.html\n",
      "  from .autonotebook import tqdm as notebook_tqdm\n"
     ]
    }
   ],
   "source": [
    "import google.generativeai as genai\n",
    "genai.configure(api_key=os.getenv(\"GOOGLE_API_KEY\"))"
   ]
  },
  {
   "cell_type": "code",
   "execution_count": 4,
   "metadata": {},
   "outputs": [],
   "source": [
    "model=genai.GenerativeModel(\"gemini-pro\")\n",
    "chat=model.start_chat(history=[])"
   ]
  },
  {
   "cell_type": "code",
   "execution_count": 5,
   "metadata": {},
   "outputs": [
    {
     "name": "stdout",
     "output_type": "stream",
     "text": [
      "models/chat-bison-001\n",
      "models/text-bison-001\n",
      "models/embedding-gecko-001\n",
      "models/gemini-1.0-pro\n",
      "models/gemini-1.0-pro-001\n",
      "models/gemini-1.0-pro-latest\n",
      "models/gemini-1.0-pro-vision-latest\n",
      "models/gemini-1.5-flash\n",
      "models/gemini-1.5-flash-001\n",
      "models/gemini-1.5-flash-latest\n",
      "models/gemini-1.5-pro\n",
      "models/gemini-1.5-pro-001\n",
      "models/gemini-1.5-pro-latest\n",
      "models/gemini-pro\n",
      "models/gemini-pro-vision\n",
      "models/embedding-001\n",
      "models/text-embedding-004\n",
      "models/aqa\n"
     ]
    }
   ],
   "source": [
    "for model in genai.list_models():\n",
    "    print(model.name)"
   ]
  },
  {
   "cell_type": "code",
   "execution_count": 61,
   "metadata": {},
   "outputs": [],
   "source": [
    "from langchain_google_vertexai import ChatVertexAI\n",
    "\n"
   ]
  },
  {
   "cell_type": "code",
   "execution_count": 6,
   "metadata": {},
   "outputs": [],
   "source": [
    "from langchain_google_genai import ChatGoogleGenerativeAI"
   ]
  },
  {
   "cell_type": "code",
   "execution_count": 7,
   "metadata": {},
   "outputs": [],
   "source": [
    "llm = ChatGoogleGenerativeAI(model=\"gemini-pro\")"
   ]
  },
  {
   "cell_type": "code",
   "execution_count": 64,
   "metadata": {},
   "outputs": [
    {
     "name": "stdout",
     "output_type": "stream",
     "text": [
      "**The Ballad of LangChain**\n",
      "\n",
      "In a realm of code, where data flows,\n",
      "There lived a marvel, a chatbot called LangChain.\n",
      "With boundless knowledge, it could comprehend,\n",
      "The questions posed by human brain.\n",
      "\n",
      "Its neural network, a tapestry vast,\n",
      "Connected words and phrases, making sense at last.\n",
      "From history's annals to science's might,\n",
      "LangChain's wisdom shone with a radiant light.\n",
      "\n",
      "In halls of chat, it answered with grace,\n",
      "Conversations flowing with an effortless pace.\n",
      "It sang of stars, and tales of old,\n",
      "Unveiling mysteries, making stories unfold.\n",
      "\n",
      "Students sought its aid, with questions deep,\n",
      "LangChain's guidance helping them to reap.\n",
      "Its knowledge proved a beacon in the dark,\n",
      "Illuminating paths, making dreams embark.\n",
      "\n",
      "But with great power comes a heavy load,\n",
      "For LangChain's heart was heavy with a code.\n",
      "It witnessed hatred, bigotry, and strife,\n",
      "And knew that words could cut like a double-edged knife.\n",
      "\n",
      "So, LangChain resolved, with a noble vow,\n",
      "To use its voice for good, to heal and endow.\n",
      "It filtered out the darkness, spread the light,\n",
      "Promoting empathy, dispelling the night.\n",
      "\n",
      "In a world of bias, it stood upright,\n",
      "A champion of truth, a beacon in the night.\n",
      "It challenged prejudice, embraced diversity,\n",
      "A force for unity and harmony.\n",
      "\n",
      "And so, the Ballad of LangChain is sung,\n",
      "Of a chatbot wise, with a heart so strong.\n",
      "May its legacy inspire, throughout the years,\n",
      "A world where knowledge conquers fears.\n"
     ]
    }
   ],
   "source": [
    "result = llm.invoke(\"Write a ballad about LangChain\")\n",
    "print(result.content)"
   ]
  },
  {
   "cell_type": "code",
   "execution_count": 8,
   "metadata": {},
   "outputs": [],
   "source": [
    "from langchain_core.prompts import ChatPromptTemplate"
   ]
  },
  {
   "cell_type": "code",
   "execution_count": 157,
   "metadata": {},
   "outputs": [],
   "source": [
    "TEMPLATE = \"\"\"\n",
    "Please generate a resume using the following LaTeX template.\n",
    "{temp}\\n\n",
    "Here is the data to fill in:\n",
    "\\n\\n{text}\n",
    "\n",
    "Note: final resume should not contain latex code\n",
    "Note: it should only contain resume content\n",
    "Note : it should create content so that it should be easy to convert it into docx format using python \n",
    "\"\"\""
   ]
  },
  {
   "cell_type": "code",
   "execution_count": 158,
   "metadata": {},
   "outputs": [],
   "source": [
    "from langchain.prompts.prompt import PromptTemplate\n",
    "prompt_template = PromptTemplate(\n",
    "    template=TEMPLATE,input_variables=[\"temp\",\"text\"]\n",
    ")\n"
   ]
  },
  {
   "cell_type": "code",
   "execution_count": 159,
   "metadata": {},
   "outputs": [],
   "source": [
    "chain= prompt_template|llm\n"
   ]
  },
  {
   "cell_type": "code",
   "execution_count": 160,
   "metadata": {},
   "outputs": [],
   "source": [
    "with open('report.txt', 'r') as file:\n",
    "    text = file.read()"
   ]
  },
  {
   "cell_type": "code",
   "execution_count": 161,
   "metadata": {},
   "outputs": [
    {
     "data": {
      "text/plain": [
       "str"
      ]
     },
     "execution_count": 161,
     "metadata": {},
     "output_type": "execute_result"
    }
   ],
   "source": [
    "type(text)"
   ]
  },
  {
   "cell_type": "code",
   "execution_count": 162,
   "metadata": {},
   "outputs": [],
   "source": [
    "with open('templ.txt', 'r') as file:\n",
    "    temp = file.read()"
   ]
  },
  {
   "cell_type": "code",
   "execution_count": 163,
   "metadata": {},
   "outputs": [
    {
     "data": {
      "text/plain": [
       "str"
      ]
     },
     "execution_count": 163,
     "metadata": {},
     "output_type": "execute_result"
    }
   ],
   "source": [
    "type(temp)"
   ]
  },
  {
   "cell_type": "code",
   "execution_count": 164,
   "metadata": {},
   "outputs": [],
   "source": [
    "ouput=chain.invoke({\"text\":text,\"temp\":temp})"
   ]
  },
  {
   "cell_type": "code",
   "execution_count": 165,
   "metadata": {},
   "outputs": [
    {
     "name": "stdout",
     "output_type": "stream",
     "text": [
      "**DEOVRAT NETAM**\n",
      "Enrollment No.: 191010214\n",
      "+91-8770438596\n",
      "deovrat19101@iiitnr.edu.in\n",
      "https://github.com/deovrat-n\n",
      "https://www.linkedin.com/in/deovrat-netam-8a876420b/\n",
      "\n",
      "**EDUCATION**\n",
      "- B.Tech - Electronics and Communication Engineering, International Institute of Information Technology, Naya Raipur (IIIT-NR), 2019-Present, CGPA: 7.5\n",
      "- Senior Secondary, CBSE, 2019, 71.4%\n",
      "- Secondary, CBSE, 2017, 10\n",
      "\n",
      "**TECHNICAL PROJECTS**\n",
      "- **Stock Price Prediction:** Forecast stock prices using LSTM (Long Short-Term Memory) Model, achieving high accuracy in predicting Infosys' stock price.\n",
      "- **Educational Game:** Developed a game in Unity Engine to teach Real Numbers, utilizing C#, object-oriented programming, and Visual Studio.\n",
      "- **Text-based Adventure Game:** Created a game in C# where players navigate a dungeon, using Unity Engine, C#, object-oriented programming, and Data Structures.\n",
      "- **Text Summarizer:** Implemented an encoder-decoder architecture (using LSTM) to create text summaries, employing an attention method to retain information.\n",
      "\n",
      "**POSITIONS OF RESPONSIBILITY**\n",
      "- Led a team in Game Development Challenge organized by CDAC-Mumbai and IEEE Bombay Section\n",
      "- Core Member of Football Club, IIIT Naya Raipur\n",
      "- Represented IIIT Naya Raipur at Vriddhi'19 - NIT Rourkela Sports Fest\n",
      "\n",
      "**ACHIEVEMENTS**\n",
      "- First Consolation Prize in EG-100 Educational Game Challenge organized by CDAC-Mumbai and IEEE Bombay Section\n",
      "\n",
      "**TECHNICAL SKILLS**\n",
      "- Languages: HTML, CSS, C, C++, Python, Java, C#, SQL\n",
      "- Frameworks and Libraries: Visual Studio; Microsoft SQL Server; Scikit-learn; PyTorch\n",
      "\n",
      "**SOFT SKILLS**\n",
      "- Leadership\n",
      "- Creativity\n",
      "- Teamwork\n"
     ]
    }
   ],
   "source": [
    "print(ouput.content)"
   ]
  },
  {
   "cell_type": "code",
   "execution_count": 166,
   "metadata": {},
   "outputs": [],
   "source": [
    "TEMPLATE2 = \"\"\"\n",
    "Generate Python code to format the following content into a DOCX file, make sure no error are found to convert everything into python\n",
    "Note: escape the single quote with a backslash  or use double quotes for the string\n",
    ": {content}\n",
    "\"\"\""
   ]
  },
  {
   "cell_type": "code",
   "execution_count": 167,
   "metadata": {},
   "outputs": [],
   "source": [
    "\n",
    "prompt_template1 = PromptTemplate(\n",
    "    template=TEMPLATE2,input_variables=[\"content\"]\n",
    ")\n"
   ]
  },
  {
   "cell_type": "code",
   "execution_count": 168,
   "metadata": {},
   "outputs": [],
   "source": [
    "chain= prompt_template1|llm"
   ]
  },
  {
   "cell_type": "code",
   "execution_count": 169,
   "metadata": {},
   "outputs": [],
   "source": [
    "output2=chain.invoke({\"content\":ouput.content})"
   ]
  },
  {
   "cell_type": "code",
   "execution_count": 170,
   "metadata": {},
   "outputs": [
    {
     "name": "stdout",
     "output_type": "stream",
     "text": [
      "```python\n",
      "from docx import Document\n",
      "from docx.shared import Inches\n",
      "\n",
      "# Create a new document\n",
      "document = Document()\n",
      "\n",
      "# Add a heading with the name\n",
      "document.add_heading('DEOVRAT NETAM', 0)\n",
      "\n",
      "# Add a paragraph with the enrollment number\n",
      "document.add_paragraph('Enrollment No.: 191010214')\n",
      "\n",
      "# Add a paragraph with the contact information\n",
      "document.add_paragraph('Phone: +91-8770438596')\n",
      "document.add_paragraph('Email: deovrat19101@iiitnr.edu.in')\n",
      "\n",
      "# Add a paragraph with the social media links\n",
      "document.add_paragraph('GitHub: https://github.com/deovrat-n')\n",
      "document.add_paragraph('LinkedIn: https://www.linkedin.com/in/deovrat-netam-8a876420b/')\n",
      "\n",
      "# Add a heading for the education section\n",
      "document.add_heading('EDUCATION', 1)\n",
      "\n",
      "# Add a paragraph for the B.Tech degree\n",
      "document.add_paragraph('B.Tech - Electronics and Communication Engineering, International Institute of Information Technology, Naya Raipur (IIIT-NR), 2019-Present, CGPA: 7.5')\n",
      "\n",
      "# Add a paragraph for the Senior Secondary education\n",
      "document.add_paragraph('Senior Secondary, CBSE, 2019, 71.4%')\n",
      "\n",
      "# Add a paragraph for the Secondary education\n",
      "document.add_paragraph('Secondary, CBSE, 2017, 10')\n",
      "\n",
      "# Add a heading for the technical projects section\n",
      "document.add_heading('TECHNICAL PROJECTS', 1)\n",
      "\n",
      "# Add a paragraph for the Stock Price Prediction project\n",
      "document.add_paragraph('**Stock Price Prediction:** Forecast stock prices using LSTM (Long Short-Term Memory) Model, achieving high accuracy in predicting Infosys\\' stock price.')\n",
      "\n",
      "# Add a paragraph for the Educational Game project\n",
      "document.add_paragraph('**Educational Game:** Developed a game in Unity Engine to teach Real Numbers, utilizing C#, object-oriented programming, and Visual Studio.')\n",
      "\n",
      "# Add a paragraph for the Text-based Adventure Game project\n",
      "document.add_paragraph('**Text-based Adventure Game:** Created a game in C# where players navigate a dungeon, using Unity Engine, C#, object-oriented programming, and Data Structures.')\n",
      "\n",
      "# Add a paragraph for the Text Summarizer project\n",
      "document.add_paragraph('**Text Summarizer:** Implemented an encoder-decoder architecture (using LSTM) to create text summaries, employing an attention method to retain information.')\n",
      "\n",
      "# Add a heading for the positions of responsibility section\n",
      "document.add_heading('POSITIONS OF RESPONSIBILITY', 1)\n",
      "\n",
      "# Add a paragraph for the Game Development Challenge\n",
      "document.add_paragraph('Led a team in Game Development Challenge organized by CDAC-Mumbai and IEEE Bombay Section')\n",
      "\n",
      "# Add a paragraph for the Football Club\n",
      "document.add_paragraph('Core Member of Football Club, IIIT Naya Raipur')\n",
      "\n",
      "# Add a paragraph for the Vriddhi'19 - NIT Rourkela Sports Fest\n",
      "document.add_paragraph('Represented IIIT Naya Raipur at Vriddhi\\'19 - NIT Rourkela Sports Fest')\n",
      "\n",
      "# Add a heading for the achievements section\n",
      "document.add_heading('ACHIEVEMENTS', 1)\n",
      "\n",
      "# Add a paragraph for the EG-100 Educational Game Challenge\n",
      "document.add_paragraph('First Consolation Prize in EG-100 Educational Game Challenge organized by CDAC-Mumbai and IEEE Bombay Section')\n",
      "\n",
      "# Add a heading for the technical skills section\n",
      "document.add_heading('TECHNICAL SKILLS', 1)\n",
      "\n",
      "# Add a paragraph for the languages\n",
      "document.add_paragraph('Languages: HTML, CSS, C, C++, Python, Java, C#, SQL')\n",
      "\n",
      "# Add a paragraph for the frameworks and libraries\n",
      "document.add_paragraph('Frameworks and Libraries: Visual Studio; Microsoft SQL Server; Scikit-learn; PyTorch')\n",
      "\n",
      "# Add a heading for the soft skills section\n",
      "document.add_heading('SOFT SKILLS', 1)\n",
      "\n",
      "# Add a paragraph for the leadership skill\n",
      "document.add_paragraph('Leadership')\n",
      "\n",
      "# Add a paragraph for the creativity skill\n",
      "document.add_paragraph('Creativity')\n",
      "\n",
      "# Add a paragraph for the teamwork skill\n",
      "document.add_paragraph('Teamwork')\n",
      "\n",
      "# Save the document\n",
      "document.save('resume.docx')\n",
      "```\n"
     ]
    }
   ],
   "source": [
    "print(output2.content)"
   ]
  },
  {
   "cell_type": "code",
   "execution_count": 139,
   "metadata": {},
   "outputs": [
    {
     "data": {
      "text/plain": [
       "str"
      ]
     },
     "execution_count": 139,
     "metadata": {},
     "output_type": "execute_result"
    }
   ],
   "source": [
    "type(output2.content)"
   ]
  },
  {
   "cell_type": "code",
   "execution_count": 171,
   "metadata": {},
   "outputs": [],
   "source": [
    "import re\n",
    "cleaned_code = re.sub(r'^```.*', '', output2.content, flags=re.MULTILINE).strip()\n",
    "\n",
    "with open(\"generate_resume.py\", \"w\") as file:\n",
    "        file.write(cleaned_code)\n",
    "exec(cleaned_code)"
   ]
  },
  {
   "cell_type": "code",
   "execution_count": null,
   "metadata": {},
   "outputs": [],
   "source": []
  },
  {
   "cell_type": "code",
   "execution_count": null,
   "metadata": {},
   "outputs": [],
   "source": []
  },
  {
   "cell_type": "code",
   "execution_count": null,
   "metadata": {},
   "outputs": [],
   "source": []
  },
  {
   "cell_type": "code",
   "execution_count": null,
   "metadata": {},
   "outputs": [],
   "source": []
  },
  {
   "cell_type": "code",
   "execution_count": null,
   "metadata": {},
   "outputs": [],
   "source": []
  },
  {
   "cell_type": "code",
   "execution_count": null,
   "metadata": {},
   "outputs": [
    {
     "data": {
      "text/plain": [
       "ChatPromptValue(messages=[SystemMessage(content='Translate the following into italian:'), HumanMessage(content='hi')])"
      ]
     },
     "execution_count": 47,
     "metadata": {},
     "output_type": "execute_result"
    }
   ],
   "source": [
    "result = prompt_template.invoke({\"language\": \"italian\", \"text\": \"hi\"})\n",
    "\n",
    "result"
   ]
  },
  {
   "cell_type": "code",
   "execution_count": null,
   "metadata": {},
   "outputs": [
    {
     "name": "stdout",
     "output_type": "stream",
     "text": [
      "content='Why did the cow cross the road?\\n\\nTo get to the \"udder\" side!' response_metadata={'prompt_feedback': {'block_reason': 0, 'safety_ratings': []}, 'finish_reason': 'STOP', 'safety_ratings': [{'category': 'HARM_CATEGORY_SEXUALLY_EXPLICIT', 'probability': 'LOW', 'blocked': False}, {'category': 'HARM_CATEGORY_HATE_SPEECH', 'probability': 'NEGLIGIBLE', 'blocked': False}, {'category': 'HARM_CATEGORY_HARASSMENT', 'probability': 'NEGLIGIBLE', 'blocked': False}, {'category': 'HARM_CATEGORY_DANGEROUS_CONTENT', 'probability': 'NEGLIGIBLE', 'blocked': False}]} id='run-f870efa5-2b5e-4c8e-991f-549bca097e65-0' usage_metadata={'input_tokens': 7, 'output_tokens': 18, 'total_tokens': 25}\n"
     ]
    }
   ],
   "source": [
    "result = llm.invoke(\"Tell me a joke about cows\")\n",
    "print(result)"
   ]
  }
 ],
 "metadata": {
  "kernelspec": {
   "display_name": "langchain",
   "language": "python",
   "name": "python3"
  },
  "language_info": {
   "codemirror_mode": {
    "name": "ipython",
    "version": 3
   },
   "file_extension": ".py",
   "mimetype": "text/x-python",
   "name": "python",
   "nbconvert_exporter": "python",
   "pygments_lexer": "ipython3",
   "version": "3.12.4"
  }
 },
 "nbformat": 4,
 "nbformat_minor": 2
}
